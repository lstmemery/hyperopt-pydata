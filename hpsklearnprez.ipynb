{
 "cells": [
  {
   "cell_type": "markdown",
   "metadata": {
    "slideshow": {
     "slide_type": "slide"
    }
   },
   "source": [
    "# Hyperopt-Sklearn: Really Simple Hyperparameter Optimization\n",
    "by Matthew Emery [@lstmemery](https://github.com/lstmemery/hyperopt-sklearn/tree/master/hpsklearn)"
   ]
  },
  {
   "cell_type": "markdown",
   "metadata": {
    "slideshow": {
     "slide_type": "notes"
    }
   },
   "source": [
    "Thanks for having me\n",
    "I can't really explain what I do in 20 seconds so let's just go"
   ]
  },
  {
   "cell_type": "markdown",
   "metadata": {
    "slideshow": {
     "slide_type": "slide"
    }
   },
   "source": [
    "## What Is Hyperparameter Optimization?\n",
    "\n",
    "- Every choice you make about a machine learning model you use is a hyperparameter\n",
    "- This includes the choice of model itself as well as preprocessing steps\n",
    "- Every dataset will have slightly different optimal hyperparameters"
   ]
  },
  {
   "cell_type": "markdown",
   "metadata": {
    "slideshow": {
     "slide_type": "notes"
    }
   },
   "source": [
    "Example: The number of neighbours in nearest neighbours but also the distance"
   ]
  },
  {
   "cell_type": "markdown",
   "metadata": {
    "slideshow": {
     "slide_type": "slide"
    }
   },
   "source": [
    "## What Makes Hyperparameter Optimization Tough?\n",
    "\n",
    "- There are an infinite number of hyperparameters. \n",
    "- Many of those hyperparameters can take an infinite number of values.  \n",
    "- Hyperparameters can interact with each other in unpredictable ways\n",
    "- Evaluating hyperparameters means training a new model\n",
    "- That's computationally expensive"
   ]
  },
  {
   "cell_type": "markdown",
   "metadata": {
    "slideshow": {
     "slide_type": "slide"
    }
   },
   "source": [
    "## Classic Hyperparameter Optimization (Found in Sklearn)\n",
    "\n",
    "<ul style=\"font-size:20px\">\n",
    "    <li>Grid search divides the hyperparameter space into even-spaced grids</li>\n",
    "        <li>Random search just guesses totally randomly</li>\n",
    "        <li>Random search is almost always a better idea then grid search\n",
    "</li>\n",
    "<ul>\n",
    "<img src=\"./img/grid_vs_random.png\" alt=\"https://medium.com/rants-on-machine-learning/smarter-parameter-sweeps-or-why-grid-search-is-plain-stupid-c17d97a0e881\" width = \"50%\" height=\"50%\">\n"
   ]
  },
  {
   "cell_type": "markdown",
   "metadata": {
    "slideshow": {
     "slide_type": "notes"
    }
   },
   "source": [
    "- Explanation: Many hyperparameters don't really matter much\n",
    "- Random search gives you more opportunties to explore the hyperparameters that do matter"
   ]
  },
  {
   "cell_type": "markdown",
   "metadata": {
    "slideshow": {
     "slide_type": "slide"
    }
   },
   "source": [
    "## What if you could build a model to predict what combination of hyperparameters works best?\n",
    "\n",
    "This is known as Sequential Model-Based Optimization\n",
    "1. Gaussian Processes (GPyOpt)\n",
    "2. **Tree-based Parzen Windows (Hyperopt)**"
   ]
  },
  {
   "cell_type": "markdown",
   "metadata": {
    "slideshow": {
     "slide_type": "notes"
    }
   },
   "source": [
    "- This is a talk about Hyperopt\n",
    "- Gaussian processes tend to work well with continuous variables\n",
    "- Hyperparameter optimization is still  a very open field"
   ]
  },
  {
   "cell_type": "markdown",
   "metadata": {
    "slideshow": {
     "slide_type": "slide"
    }
   },
   "source": [
    "## What is Hyperopt?\n",
    "\n",
    "- Bayesian: The algorithm will stop picking values correlated with bad validation scores (As opposed to random search)\n",
    "- Tree-based: The algorithm can model discrete, conditional, categorical and continuous variables"
   ]
  },
  {
   "cell_type": "markdown",
   "metadata": {
    "slideshow": {
     "slide_type": "notes"
    }
   },
   "source": [
    "Details: Hyperopt approximates the density of \"good\" results for a given value of the hyperparameter"
   ]
  },
  {
   "cell_type": "markdown",
   "metadata": {
    "slideshow": {
     "slide_type": "slide"
    }
   },
   "source": [
    "## What is Hyperopt-Sklearn?\n",
    "\n",
    "- A wrapper for Hyperopt compatible with the scikit-learn API\n",
    "- Also includes reasonable prior distributions for many scikit-learn models (plug and play)\n",
    "- Supports XGBoost\n",
    "- Checkout my fork of it is here: https://github.com/lstmemery/hyperopt-sklearn\n",
    "- My main contribution: Fixing cross-validation, adding repeated cross-validation"
   ]
  },
  {
   "cell_type": "markdown",
   "metadata": {
    "slideshow": {
     "slide_type": "slide"
    }
   },
   "source": [
    "![https://www.semanticscholar.org/paper/Hyperopt-Sklearn%3A-Automatic-Hyperparameter-for-Komer-Bergstra/7b2ce6eb25ab840936ae6bf2cd49bc7f20785bc4](./img/tpe_structure.png)"
   ]
  },
  {
   "cell_type": "markdown",
   "metadata": {
    "slideshow": {
     "slide_type": "notes"
    }
   },
   "source": [
    "This is a way of visualizing hyperopt-sklearn. It selects a preprocessor randomly, then selects the hyperparameters for the preprocessor. This comes image comes from hyperopt-sklearn paper"
   ]
  },
  {
   "cell_type": "code",
   "execution_count": 15,
   "metadata": {
    "slideshow": {
     "slide_type": "skip"
    }
   },
   "outputs": [],
   "source": [
    "from sklearn.datasets import load_digits\n",
    "from sklearn.model_selection import train_test_split\n",
    "import matplotlib.pyplot as plt\n",
    "from random import randint\n",
    "import seaborn as sns\n",
    "from sklearn.ensemble import RandomForestClassifier\n",
    "from sklearn.metrics import accuracy_score\n",
    "import scikitplot as skplt\n",
    "import warnings\n",
    "from sklearn.externals import joblib\n",
    "from hpsklearn import HyperoptEstimator, any_classifier\n",
    "warnings.filterwarnings('ignore')\n",
    "import pandas as pd\n",
    "from collections import defaultdict\n",
    "\n",
    "\n",
    "%matplotlib inline"
   ]
  },
  {
   "cell_type": "code",
   "execution_count": 8,
   "metadata": {
    "slideshow": {
     "slide_type": "slide"
    }
   },
   "outputs": [
    {
     "data": {
      "text/plain": [
       "<matplotlib.image.AxesImage at 0x7efe57c606d8>"
      ]
     },
     "execution_count": 8,
     "metadata": {},
     "output_type": "execute_result"
    },
    {
     "data": {
      "image/png": "[encoded data removed]",
      "text/plain": [
       "<Figure size 432x288 with 1 Axes>"
      ]
     },
     "metadata": {},
     "output_type": "display_data"
    }
   ],
   "source": [
    "X, y = load_digits(return_X_y = True) # MNIST Dataset\n",
    "\n",
    "(train_X, test_X, train_y, test_y) = train_test_split(X, y, \n",
    "                                     test_size = 0.2,\n",
    "                                     random_state = 0) # Split the Data \n",
    "random_image = randint(0, len(train_X))\n",
    "plt.title(train_y[random_image], fontsize=30)\n",
    "plt.imshow(train_X[random_image].reshape(8, 8), cmap=plt.cm.gray_r)"
   ]
  },
  {
   "cell_type": "markdown",
   "metadata": {
    "slideshow": {
     "slide_type": "notes"
    }
   },
   "source": [
    "- This is interactive in the notebook version\n",
    "- I've loaded all the all the libraries ahead of time"
   ]
  },
  {
   "cell_type": "code",
   "execution_count": 11,
   "metadata": {
    "slideshow": {
     "slide_type": "slide"
    }
   },
   "outputs": [
    {
     "name": "stdout",
     "output_type": "stream",
     "text": [
      "0.944\n"
     ]
    },
    {
     "data": {
      "text/plain": [
       "<matplotlib.axes._subplots.AxesSubplot at 0x7efe55a9bdd8>"
      ]
     },
     "execution_count": 11,
     "metadata": {},
     "output_type": "execute_result"
    },
    {
     "data": {
      "image/png": "[encoded data removed]",
      "text/plain": [
       "<Figure size 432x288 with 2 Axes>"
      ]
     },
     "metadata": {},
     "output_type": "display_data"
    }
   ],
   "source": [
    "model = RandomForestClassifier(random_state = 0) # Basic Random Forest\n",
    "model.fit(train_X, train_y)\n",
    "print(accuracy_score(test_y, model.predict(test_X)).round(3))\n",
    "\n",
    "skplt.metrics.plot_confusion_matrix(test_y, model.predict(test_X)) # Lookup Scikit-plot! "
   ]
  },
  {
   "cell_type": "markdown",
   "metadata": {
    "slideshow": {
     "slide_type": "notes"
    }
   },
   "source": [
    "- This is already really good. (About 1 in 20 wrong)\n",
    "- I just love scikit-plot"
   ]
  },
  {
   "cell_type": "code",
   "execution_count": 37,
   "metadata": {
    "slideshow": {
     "slide_type": "slide"
    }
   },
   "outputs": [
    {
     "data": {
      "text/plain": [
       "['hyperopt_model.pkl']"
      ]
     },
     "execution_count": 37,
     "metadata": {},
     "output_type": "execute_result"
    }
   ],
   "source": [
    "from hpsklearn import HyperoptEstimator, any_classifier\n",
    "\n",
    "hyperopt_model = HyperoptEstimator(classifier=any_classifier(\"mnist\"),\n",
    "                                   max_evals=100,\n",
    "                                   seed=0)\n",
    "hyperopt_model.fit(train_X,\n",
    "              train_y,\n",
    "              n_folds=5,\n",
    "              cv_shuffle=True,\n",
    "              random_state=0)\n",
    "\n",
    "from sklearn.externals import joblib\n",
    "\n",
    "joblib.dump(hyperopt_model, \"hyperopt_model.pkl\")"
   ]
  },
  {
   "cell_type": "markdown",
   "metadata": {
    "slideshow": {
     "slide_type": "notes"
    }
   },
   "source": [
    "- This took about 30 minutes to run\n",
    "- I normally run stuff like this overnight or in the cloud\n",
    "- ALWAYS SAVE YOUR WORK\n",
    "- You can also specify specific classifiers you want"
   ]
  },
  {
   "cell_type": "code",
   "execution_count": 14,
   "metadata": {
    "slideshow": {
     "slide_type": "slide"
    }
   },
   "outputs": [
    {
     "name": "stdout",
     "output_type": "stream",
     "text": [
      "0.989\n",
      "{'learner': KNeighborsClassifier(algorithm='auto', leaf_size=30, metric='euclidean',\n",
      "           metric_params=None, n_jobs=1, n_neighbors=3, p=2,\n",
      "           weights='distance'), 'preprocs': (Normalizer(copy=True, norm='l2'),), 'ex_preprocs': ()}\n"
     ]
    },
    {
     "data": {
      "text/plain": [
       "<matplotlib.axes._subplots.AxesSubplot at 0x7efe505dfcf8>"
      ]
     },
     "execution_count": 14,
     "metadata": {},
     "output_type": "execute_result"
    },
    {
     "data": {
      "image/png": "[encoded data removed]",
      "text/plain": [
       "<Figure size 432x288 with 2 Axes>"
      ]
     },
     "metadata": {},
     "output_type": "display_data"
    }
   ],
   "source": [
    "hyperopt_model = joblib.load(\"hyperopt_model.pkl\")\n",
    "hyperopt_predictions = hyperopt_model.predict(test_X)\n",
    "\n",
    "print(accuracy_score(test_y, hyperopt_predictions).round(3))\n",
    "print(hyperopt_model.best_model())\n",
    "skplt.metrics.plot_confusion_matrix(test_y, hyperopt_predictions)"
   ]
  },
  {
   "cell_type": "markdown",
   "metadata": {
    "slideshow": {
     "slide_type": "notes"
    }
   },
   "source": [
    "- We are now up to getting only 1 in 100 wrong\n",
    "- If you are familar with MNIST, this model happens to be a really solid solution"
   ]
  },
  {
   "cell_type": "code",
   "execution_count": null,
   "metadata": {
    "slideshow": {
     "slide_type": "skip"
    }
   },
   "outputs": [],
   "source": [
    "classifier_types = [\"svc\", \"knn\", \"random\\nforest\", \"extra\\ntrees\", \"ada\\nboost\", \"gradient\\nboosting\", \"sgd\"]\n",
    "\n",
    "classifier_performance = defaultdict(list)\n",
    "for index, classifier in enumerate(hyperopt_model.trials.trials):\n",
    "    classifier_performance[\"index\"].append(index)\n",
    "    classifier_performance[\"loss\"].append(1 - classifier[\"result\"][\"loss\"]) # We want accuracy\n",
    "    classifier_performance[\"classifier_type\"].append(classifier_types[classifier['misc']['vals'][\"mnist\"][0]])"
   ]
  },
  {
   "cell_type": "code",
   "execution_count": 19,
   "metadata": {
    "slideshow": {
     "slide_type": "slide"
    }
   },
   "outputs": [
    {
     "data": {
      "text/plain": [
       "<matplotlib.axes._subplots.AxesSubplot at 0x7efe5038eeb8>"
      ]
     },
     "execution_count": 19,
     "metadata": {},
     "output_type": "execute_result"
    },
    {
     "data": {
      "image/png": "[encoded data removed]",
      "text/plain": [
       "<Figure size 432x288 with 1 Axes>"
      ]
     },
     "metadata": {},
     "output_type": "display_data"
    }
   ],
   "source": [
    "sns.stripplot(x=\"classifier_type\", y=\"loss\", data= pd.DataFrame(classifier_performance))"
   ]
  },
  {
   "cell_type": "markdown",
   "metadata": {
    "slideshow": {
     "slide_type": "notes"
    }
   },
   "source": [
    "- This is a plot of performance for the different algorithms tried\n",
    "- What you can see is some models clearly outperform others\n",
    "- Why is gradient boosting fine but adapative not? Who knows"
   ]
  },
  {
   "cell_type": "code",
   "execution_count": 20,
   "metadata": {
    "slideshow": {
     "slide_type": "slide"
    }
   },
   "outputs": [
    {
     "data": {
      "text/plain": [
       "<matplotlib.axes._subplots.AxesSubplot at 0x7efe5033dcf8>"
      ]
     },
     "execution_count": 20,
     "metadata": {},
     "output_type": "execute_result"
    },
    {
     "data": {
      "image/png": "[encoded data removed]",
      "text/plain": [
       "<Figure size 432x288 with 1 Axes>"
      ]
     },
     "metadata": {},
     "output_type": "display_data"
    }
   ],
   "source": [
    "pd.DataFrame(classifier_performance).plot.line(x=\"index\", y=\"loss\")"
   ]
  },
  {
   "cell_type": "markdown",
   "metadata": {
    "slideshow": {
     "slide_type": "notes"
    }
   },
   "source": [
    "- In this case the problem was rather easy so you don't notice a huge trend\n",
    "- Over time those deep dips will start to disappear\n",
    "- That wouldn't happen in random search"
   ]
  },
  {
   "cell_type": "markdown",
   "metadata": {
    "slideshow": {
     "slide_type": "slide"
    }
   },
   "source": [
    "## Other Features\n",
    "\n",
    "- Parallel Optimization through MongoDB\n",
    "- Warm Starting (don't start from square one every time)"
   ]
  },
  {
   "cell_type": "markdown",
   "metadata": {
    "slideshow": {
     "slide_type": "notes"
    }
   },
   "source": [
    "- These are both ways of dealing with larger datasets\n",
    "- When in doubt, just buy a bigger instance"
   ]
  },
  {
   "cell_type": "markdown",
   "metadata": {
    "slideshow": {
     "slide_type": "slide"
    }
   },
   "source": [
    "## What about Neural Networks?\n",
    "\n",
    "- The Hyperopt library can be used to optimize any function\n",
    "- Some kind soul built a keras-compatibility layer called [Hyperas](https://github.com/maxpumperla/hyperas)"
   ]
  },
  {
   "cell_type": "markdown",
   "metadata": {
    "slideshow": {
     "slide_type": "notes"
    }
   },
   "source": [
    "- Hyperas has a similar syntax to Jinja or any other HTML templating library\n",
    "- I haven't found anything for PyTorch"
   ]
  },
  {
   "cell_type": "markdown",
   "metadata": {
    "slideshow": {
     "slide_type": "slide"
    }
   },
   "source": [
    "## Words to the Wise\n",
    "\n",
    "- Hyperparameter optimization is computationally costly\n",
    "- Your ideal hyperparameters will shift depending on feature engineering\n",
    "- Create a few basic models first and see if validation accuracy improves\n",
    "- **Don't do hyperparameter tuning until you are reasonably certain you won't be making big changes**"
   ]
  },
  {
   "cell_type": "markdown",
   "metadata": {
    "slideshow": {
     "slide_type": "notes"
    }
   },
   "source": [
    "It's tempting to run this all the time. You shouldn't"
   ]
  },
  {
   "cell_type": "markdown",
   "metadata": {
    "slideshow": {
     "slide_type": "slide"
    }
   },
   "source": [
    "## Optimization Bias\n",
    "\n",
    "- In the example above I used 5-fold cross validation\n",
    "- The more iterations of hyperparameter tuning you run, the more likely that you find a model that fits the validation data by chance (overfitting)\n",
    "- If overfitting is an issue, increase your fold size or even perform cross-validation multiple times per iteration and average the results"
   ]
  },
  {
   "cell_type": "markdown",
   "metadata": {
    "slideshow": {
     "slide_type": "notes"
    }
   },
   "source": [
    "If you are overfitting even with rather simple models, you likely have data leakage"
   ]
  },
  {
   "cell_type": "markdown",
   "metadata": {
    "slideshow": {
     "slide_type": "slide"
    }
   },
   "source": [
    "## Other Hyperparameter Libraries\n",
    "\n",
    "- Hyperband (subsampling, early-stopping random search)\n",
    "- TPOT (Evolutionary pipeline building)\n",
    "- Auto-sklearn (Ensemble building and meta-learning)"
   ]
  },
  {
   "cell_type": "markdown",
   "metadata": {
    "slideshow": {
     "slide_type": "notes"
    }
   },
   "source": [
    "There's a new paper suggesting that you combine Hyperband and Hyperopt but no one has implemented it"
   ]
  },
  {
   "cell_type": "markdown",
   "metadata": {
    "slideshow": {
     "slide_type": "slide"
    }
   },
   "source": [
    "## Questions?"
   ]
  }
 ],
 "metadata": {
  "celltoolbar": "Slideshow",
  "kernelspec": {
   "display_name": "Python 3",
   "language": "python",
   "name": "python3"
  },
  "language_info": {
   "codemirror_mode": {
    "name": "ipython",
    "version": 3
   },
   "file_extension": ".py",
   "mimetype": "text/x-python",
   "name": "python",
   "nbconvert_exporter": "python",
   "pygments_lexer": "ipython3",
   "version": "3.6.3"
  }
 },
 "nbformat": 4,
 "nbformat_minor": 2
}
