{
 "cells": [
  {
   "cell_type": "markdown",
   "metadata": {
    "slideshow": {
     "slide_type": "slide"
    }
   },
   "source": [
    "# Hyperopt-Sklearn: Really Simple Hyperparameter Optimization\n",
    "by Matthew Emery [@lstmemery](https://github.com/lstmemery/hyperopt-sklearn/tree/master/hpsklearn)"
   ]
  },
  {
   "cell_type": "markdown",
   "metadata": {
    "slideshow": {
     "slide_type": "slide"
    }
   },
   "source": [
    "## About Me\n",
    "\n",
    "- Master's degree from UBC in Data Science\n",
    "- Data scientist at Imbellus Inc.\n",
    "- We build simulations to predict the problem solving abilities of job applicants\n",
    "- I also do occasional consulting: matthew.emery44@gmail.com"
   ]
  },
  {
   "cell_type": "markdown",
   "metadata": {
    "slideshow": {
     "slide_type": "slide"
    }
   },
   "source": [
    "## Table of Questions\n",
    "\n",
    "1. What are hyperparameters?\n",
    "2. Why should I care about this talk?\n",
    "3. How does the Tree Parzen Estimator algorithm work?\n",
    "4. What does Hyperopt do?\n",
    "5. Why should I use Hyperopt-Sklearn?\n",
    "6. What are my other options?"
   ]
  },
  {
   "cell_type": "code",
   "execution_count": 2,
   "metadata": {
    "slideshow": {
     "slide_type": "skip"
    }
   },
   "outputs": [
    {
     "name": "stderr",
     "output_type": "stream",
     "text": [
      "/home/deadhand/.local/share/virtualenvs/hyperopt-pydata-MbHnsSDw/lib/python3.6/importlib/_bootstrap.py:219: RuntimeWarning: numpy.dtype size changed, may indicate binary incompatibility. Expected 96, got 88\n",
      "  return f(*args, **kwds)\n",
      "/home/deadhand/.local/share/virtualenvs/hyperopt-pydata-MbHnsSDw/lib/python3.6/importlib/_bootstrap.py:219: RuntimeWarning: numpy.dtype size changed, may indicate binary incompatibility. Expected 96, got 88\n",
      "  return f(*args, **kwds)\n"
     ]
    },
    {
     "name": "stdout",
     "output_type": "stream",
     "text": [
      "WARN: OMP_NUM_THREADS=None =>\n",
      "... If you are using openblas if you are using openblas set OMP_NUM_THREADS=1 or risk subprocess calls hanging indefinitely\n"
     ]
    }
   ],
   "source": [
    "from sklearn.datasets import make_regression\n",
    "from sklearn.linear_model import Lasso\n",
    "from sklearn.model_selection import train_test_split, cross_val_score\n",
    "from sklearn.metrics import mean_absolute_error, accuracy_score, make_scorer\n",
    "import pandas as pd\n",
    "import numpy as np\n",
    "import hyperopt as hp\n",
    "from sklearn.datasets import load_digits\n",
    "import matplotlib.pyplot as plt\n",
    "from random import randint\n",
    "import seaborn as sns\n",
    "from sklearn.ensemble import RandomForestClassifier\n",
    "import scikitplot as skplt\n",
    "import warnings\n",
    "from sklearn.externals import joblib\n",
    "from sklearn.neighbors import KNeighborsClassifier\n",
    "from hpsklearn import HyperoptEstimator, any_classifier\n",
    "warnings.filterwarnings('ignore')\n",
    "import pandas as pd\n",
    "from collections import defaultdict\n",
    "from numpy.random import uniform, choice, seed, normal, binomial\n",
    "import seaborn as sns\n",
    "from scipy.stats import truncnorm\n",
    "\n",
    "%matplotlib inline\n",
    "np.set_printoptions(precision=2, suppress=True)\n",
    "\n",
    "X1, y1 = make_regression(n_samples=1000, noise=2, n_features=10, n_informative=5, random_state=0)\n",
    "X1_train, X1_test, y1_train, y1_test = train_test_split(X1, y1, test_size=0.2, random_state=0)\n",
    "\n",
    "X2, y2 = make_regression(n_samples=1000, noise=2, n_features=1000, n_informative=5, random_state=100)\n",
    "X2_train, X2_test, y2_train, y2_test = train_test_split(X2, y2, test_size=0.2, random_state=100)"
   ]
  },
  {
   "cell_type": "markdown",
   "metadata": {
    "slideshow": {
     "slide_type": "slide"
    }
   },
   "source": [
    "## What Are Those Machines Learning?\n",
    "\n",
    "- Machine learning algorithms find the **parameters** of a model that minimize some **loss function**\n",
    "- Every algorithm comes with a different set of assumptions about your data\n",
    "- You can modify the algorithm's assumptions before you minimize by setting **hyperparameters**"
   ]
  },
  {
   "cell_type": "code",
   "execution_count": 43,
   "metadata": {
    "slideshow": {
     "slide_type": "fragment"
    }
   },
   "outputs": [
    {
     "name": "stdout",
     "output_type": "stream",
     "text": [
      "[52.44  0.06 73.27 -0.06  9.66 13.49 -0.03 -0.05  0.16 40.06]\n",
      "Score: 1.70\n",
      "[51.41  0.   72.26 -0.    8.76 12.45 -0.   -0.    0.   38.98]\n",
      "Score: 2.35\n"
     ]
    }
   ],
   "source": [
    "ols = Lasso(alpha = 0.0001) # Alpha is a hyperparameter\n",
    "ols.fit(X1_train, y1_train)\n",
    "print(ols.coef_) # Regression coefficients are parameters\n",
    "print(f\"Score: {mean_absolute_error(y1_test, ols.predict(X1_test)):.2f}\")\n",
    "\n",
    "lasso = Lasso(alpha = 1)\n",
    "lasso.fit(X1_train, y1_train)\n",
    "print(lasso.coef_)\n",
    "print(f\"Score: {mean_absolute_error(y1_test, lasso.predict(X1_test)):.2f}\")"
   ]
  },
  {
   "cell_type": "markdown",
   "metadata": {
    "slideshow": {
     "slide_type": "notes"
    }
   },
   "source": [
    "- I generated two synthetic data sets for regression\n",
    "- First has 10 features, 5 are informative\n",
    "- Second has 1000 features, with 5 informative\n",
    "- Lasso with weak regression does better here"
   ]
  },
  {
   "cell_type": "code",
   "execution_count": 57,
   "metadata": {
    "slideshow": {
     "slide_type": "slide"
    }
   },
   "outputs": [
    {
     "name": "stdout",
     "output_type": "stream",
     "text": [
      "Score: 41.83\n",
      "Score: 2.51\n"
     ]
    }
   ],
   "source": [
    "# Same generating process, but more uninformative features\n",
    "ols = Lasso(alpha = 0.0001)\n",
    "ols.fit(X2_train, y2_train)\n",
    "print(f\"Score: {mean_absolute_error(y2_test, ols.predict(X2_test)):.2f}\")\n",
    "\n",
    "lasso = Lasso(alpha = 1)\n",
    "lasso.fit(X2_train, y2_train)\n",
    "print(f\"Score: {mean_absolute_error(y2_test, lasso.predict(X2_test)):.2f}\")"
   ]
  },
  {
   "cell_type": "markdown",
   "metadata": {
    "slideshow": {
     "slide_type": "notes"
    }
   },
   "source": [
    "- Even though the processes that made these data sets are similar, the results are radically similar\n",
    "- Talk about No Free Lunch here"
   ]
  },
  {
   "cell_type": "markdown",
   "metadata": {
    "slideshow": {
     "slide_type": "slide"
    }
   },
   "source": [
    "## Are an experimental composer?\n",
    "\n",
    "![http://www.retrothing.com/2015/01/vintage-synthesizer-reissues-invade-namm-2015.html](./img/synthesizer.png)\n",
    "\n",
    "- Imagine that you've been instructed to recreate a 5 minute song on this synth\n",
    "- Some of the knobs and switches affect others. Some don't do anything at all\n",
    "- You don't really know what you're doing, but a blind DJ tells you how close you are"
   ]
  },
  {
   "cell_type": "markdown",
   "metadata": {
    "slideshow": {
     "slide_type": "notes"
    }
   },
   "source": [
    "- This is what hyperparameter tuning is like\n",
    "- It takes a long time\n",
    "- It's frusterating to do by had\n",
    "- You don't get a lot of feedback"
   ]
  },
  {
   "cell_type": "markdown",
   "metadata": {
    "slideshow": {
     "slide_type": "slide"
    }
   },
   "source": [
    "- The combination of all hyperparameters is called **Hyperparameter Space**\n",
    "\n",
    "### What do we know about Hyperparameter Space?\n",
    "\n",
    "1. It's very big. You can expect to be exploring in dozens of dimensions\n",
    "2. It's costly to explore. Each point in hyperparameter space has to be evaluated by training a model\n",
    "3. It's not smooth. You can't expect to take the gradient of hyperparameter space\n",
    "4. Not all dimensions are equal. There are often hyperparameters whose optimal values don't contribute very much minimizing the loss function.\n",
    "5. (Because of the first 4): Humans are bad exploring it. Randomized search often outperforms humans. [1]"
   ]
  },
  {
   "cell_type": "markdown",
   "metadata": {
    "slideshow": {
     "slide_type": "notes"
    }
   },
   "source": [
    "- Taking gradient is nice because it gives you a sense of direction\n",
    "- Very recent work has found some clever ways for you to take the derivative of something like hyperparameter space"
   ]
  },
  {
   "cell_type": "markdown",
   "metadata": {
    "slideshow": {
     "slide_type": "slide"
    }
   },
   "source": [
    "## Side-Note: Optimization Bias and Getting Rich Quick[5]\n",
    "- Every week day for two weeks (10 days) I send you an email predicting whether the Dow Jones will rise or fall\n",
    "- I'm always right\n",
    "\n",
    "Assuming the Dow Jones Index is independent and equally likely to rise or fall:\n",
    "\n",
    "$$\\Big(\\frac{1}{2}\\Big)^{10} = \\frac{1}{1024}$$\n",
    "\n",
    "- Is there anything you should know before you give me all your money?"
   ]
  },
  {
   "cell_type": "markdown",
   "metadata": {
    "slideshow": {
     "slide_type": "slide"
    }
   },
   "source": [
    "## How many different emails did I send?\n",
    "\n",
    "- If I sent out random emails to 10000 different people it becomes a lot less impressive"
   ]
  },
  {
   "cell_type": "code",
   "execution_count": 8,
   "metadata": {
    "slideshow": {
     "slide_type": "fragment"
    }
   },
   "outputs": [
    {
     "data": {
      "text/plain": [
       "9"
      ]
     },
     "execution_count": 8,
     "metadata": {},
     "output_type": "execute_result"
    }
   ],
   "source": [
    "emails = binomial(n=10, p=0.5, size=10000)\n",
    "len(emails[emails == 10]) # Nine lucky recipients!"
   ]
  },
  {
   "cell_type": "markdown",
   "metadata": {
    "slideshow": {
     "slide_type": "notes"
    }
   },
   "source": [
    "Make sure to mention How Not to Be Wrong"
   ]
  },
  {
   "cell_type": "markdown",
   "metadata": {
    "slideshow": {
     "slide_type": "slide"
    }
   },
   "source": [
    "## What does this have to do with hyperparamater optimization?\n",
    "- Each email is a model that gives a prediction\n",
    "- The emailer is your hyperparameter optimization algorithm\n",
    "- The first 10 days if your validation set\n",
    "- You lose all your money by putting a crappy model in production"
   ]
  },
  {
   "cell_type": "markdown",
   "metadata": {
    "slideshow": {
     "slide_type": "slide"
    }
   },
   "source": [
    "## How do we defeat optimization bias?\n",
    "\n",
    "1. **Get more data:** This is almost always a good call.\n",
    "2. **Cross-validation:** This is like asking the stock picker to predict the direction of multiple indices. Optimization bias will still happen but it will be more slowly. Repeat cross-validation with different seeds if you can afford to.\n",
    "3. **Build fewer models:** This is why the efficiency of the hyperparameter optimization algorithm matters"
   ]
  },
  {
   "cell_type": "markdown",
   "metadata": {
    "slideshow": {
     "slide_type": "slide"
    }
   },
   "source": [
    "- Hyperparameter optimization is computationally costly\n",
    "- Your ideal hyperparameters will shift depending on feature engineering\n",
    "- Create a few basic models first and see if validation accuracy improves\n",
    "- **Don't do hyperparameter tuning until you are reasonably certain you won't be making big changes**"
   ]
  },
  {
   "cell_type": "markdown",
   "metadata": {
    "slideshow": {
     "slide_type": "notes"
    }
   },
   "source": [
    "- It's tempting to run this all the time. You shouldn't\n",
    "- I think of hyperparameter tuning as sending your model off to get laminated"
   ]
  },
  {
   "cell_type": "markdown",
   "metadata": {
    "slideshow": {
     "slide_type": "slide"
    }
   },
   "source": [
    "## Dessert First: Let's Peek at Hyperopt-Sklearn"
   ]
  },
  {
   "cell_type": "code",
   "execution_count": 13,
   "metadata": {
    "slideshow": {
     "slide_type": "slide"
    }
   },
   "outputs": [
    {
     "data": {
      "text/plain": [
       "<matplotlib.image.AxesImage at 0x7f4f56844cf8>"
      ]
     },
     "execution_count": 13,
     "metadata": {},
     "output_type": "execute_result"
    },
    {
     "data": {
      "image/png": "[encoded data removed]",
      "text/plain": [
       "<Figure size 432x288 with 1 Axes>"
      ]
     },
     "metadata": {},
     "output_type": "display_data"
    }
   ],
   "source": [
    "X, y = load_digits(return_X_y = True) # MNIST Dataset\n",
    "\n",
    "(train_X, test_X, train_y, test_y) = train_test_split(X, y, \n",
    "                                     test_size = 0.2,\n",
    "                                     random_state = 0) # Split the Data \n",
    "random_image = randint(0, len(train_X))\n",
    "plt.title(train_y[random_image], fontsize=30)\n",
    "plt.imshow(train_X[random_image].reshape(8, 8), cmap=plt.cm.gray_r)"
   ]
  },
  {
   "cell_type": "markdown",
   "metadata": {
    "slideshow": {
     "slide_type": "notes"
    }
   },
   "source": [
    "- This is interactive in the notebook version\n",
    "- I've loaded all the all the libraries ahead of time"
   ]
  },
  {
   "cell_type": "code",
   "execution_count": 11,
   "metadata": {
    "slideshow": {
     "slide_type": "slide"
    }
   },
   "outputs": [
    {
     "name": "stdout",
     "output_type": "stream",
     "text": [
      "0.944\n"
     ]
    },
    {
     "data": {
      "text/plain": [
       "<matplotlib.axes._subplots.AxesSubplot at 0x7efe55a9bdd8>"
      ]
     },
     "execution_count": 11,
     "metadata": {},
     "output_type": "execute_result"
    },
    {
     "data": {
      "image/png": "[encoded data removed]",
      "text/plain": [
       "<Figure size 432x288 with 2 Axes>"
      ]
     },
     "metadata": {},
     "output_type": "display_data"
    }
   ],
   "source": [
    "model = RandomForestClassifier(random_state = 0) # Basic Random Forest\n",
    "model.fit(train_X, train_y)\n",
    "print(accuracy_score(test_y, model.predict(test_X)).round(3))\n",
    "\n",
    "skplt.metrics.plot_confusion_matrix(test_y, model.predict(test_X)) # Lookup Scikit-plot! "
   ]
  },
  {
   "cell_type": "markdown",
   "metadata": {
    "slideshow": {
     "slide_type": "notes"
    }
   },
   "source": [
    "- This is already really good. (About 1 in 20 wrong)\n",
    "- I just love scikit-plot"
   ]
  },
  {
   "cell_type": "code",
   "execution_count": 37,
   "metadata": {
    "slideshow": {
     "slide_type": "slide"
    }
   },
   "outputs": [
    {
     "data": {
      "text/plain": [
       "['hyperopt_model.pkl']"
      ]
     },
     "execution_count": 37,
     "metadata": {},
     "output_type": "execute_result"
    }
   ],
   "source": [
    "from hpsklearn import HyperoptEstimator, any_classifier\n",
    "\n",
    "hyperopt_model = HyperoptEstimator(classifier=any_classifier(\"mnist\"),\n",
    "                                   max_evals=100,\n",
    "                                   seed=0)\n",
    "hyperopt_model.fit(train_X,\n",
    "              train_y,\n",
    "              n_folds=5,\n",
    "              cv_shuffle=True,\n",
    "              random_state=0)\n",
    "\n",
    "from sklearn.externals import joblib\n",
    "\n",
    "joblib.dump(hyperopt_model, \"hyperopt_model.pkl\")"
   ]
  },
  {
   "cell_type": "markdown",
   "metadata": {
    "slideshow": {
     "slide_type": "notes"
    }
   },
   "source": [
    "- This took about 30 minutes to run\n",
    "- I normally run stuff like this overnight or in the cloud\n",
    "- ALWAYS SAVE YOUR WORK\n",
    "- You can also specify specific classifiers you want"
   ]
  },
  {
   "cell_type": "code",
   "execution_count": 14,
   "metadata": {
    "slideshow": {
     "slide_type": "slide"
    }
   },
   "outputs": [
    {
     "name": "stdout",
     "output_type": "stream",
     "text": [
      "0.989\n",
      "{'learner': KNeighborsClassifier(algorithm='auto', leaf_size=30, metric='euclidean',\n",
      "           metric_params=None, n_jobs=1, n_neighbors=3, p=2,\n",
      "           weights='distance'), 'preprocs': (Normalizer(copy=True, norm='l2'),), 'ex_preprocs': ()}\n"
     ]
    },
    {
     "data": {
      "text/plain": [
       "<matplotlib.axes._subplots.AxesSubplot at 0x7efe505dfcf8>"
      ]
     },
     "execution_count": 14,
     "metadata": {},
     "output_type": "execute_result"
    },
    {
     "data": {
      "image/png": "[encoded data removed]",
      "text/plain": [
       "<Figure size 432x288 with 2 Axes>"
      ]
     },
     "metadata": {},
     "output_type": "display_data"
    }
   ],
   "source": [
    "hyperopt_model = joblib.load(\"hyperopt_model.pkl\")\n",
    "hyperopt_predictions = hyperopt_model.predict(test_X)\n",
    "\n",
    "print(accuracy_score(test_y, hyperopt_predictions).round(3))\n",
    "print(hyperopt_model.best_model())\n",
    "skplt.metrics.plot_confusion_matrix(test_y, hyperopt_predictions)"
   ]
  },
  {
   "cell_type": "markdown",
   "metadata": {
    "slideshow": {
     "slide_type": "notes"
    }
   },
   "source": [
    "- We are now up to getting only 1 in 100 wrong\n",
    "- If you are familar with MNIST, this model happens to be a really solid solution"
   ]
  },
  {
   "cell_type": "code",
   "execution_count": null,
   "metadata": {
    "collapsed": true,
    "slideshow": {
     "slide_type": "skip"
    }
   },
   "outputs": [],
   "source": [
    "classifier_types = [\"svc\", \"knn\", \"random\\nforest\", \"extra\\ntrees\", \"ada\\nboost\", \"gradient\\nboosting\", \"sgd\"]\n",
    "\n",
    "classifier_performance = defaultdict(list)\n",
    "for index, classifier in enumerate(hyperopt_model.trials.trials):\n",
    "    classifier_performance[\"index\"].append(index)\n",
    "    classifier_performance[\"loss\"].append(1 - classifier[\"result\"][\"loss\"]) # We want accuracy\n",
    "    classifier_performance[\"classifier_type\"].append(classifier_types[classifier['misc']['vals'][\"mnist\"][0]])"
   ]
  },
  {
   "cell_type": "code",
   "execution_count": 19,
   "metadata": {
    "slideshow": {
     "slide_type": "slide"
    }
   },
   "outputs": [
    {
     "data": {
      "text/plain": [
       "<matplotlib.axes._subplots.AxesSubplot at 0x7efe5038eeb8>"
      ]
     },
     "execution_count": 19,
     "metadata": {},
     "output_type": "execute_result"
    },
    {
     "data": {
      "image/png": "[encoded data removed]",
      "text/plain": [
       "<Figure size 432x288 with 1 Axes>"
      ]
     },
     "metadata": {},
     "output_type": "display_data"
    }
   ],
   "source": [
    "sns.stripplot(x=\"classifier_type\", y=\"loss\", data= pd.DataFrame(classifier_performance))"
   ]
  },
  {
   "cell_type": "markdown",
   "metadata": {
    "slideshow": {
     "slide_type": "notes"
    }
   },
   "source": [
    "- This is a plot of performance for the different algorithms tried\n",
    "- What you can see is some models clearly outperform others\n",
    "- Why is gradient boosting fine but adapative not? Who knows"
   ]
  },
  {
   "cell_type": "code",
   "execution_count": 20,
   "metadata": {
    "slideshow": {
     "slide_type": "slide"
    }
   },
   "outputs": [
    {
     "data": {
      "text/plain": [
       "<matplotlib.axes._subplots.AxesSubplot at 0x7efe5033dcf8>"
      ]
     },
     "execution_count": 20,
     "metadata": {},
     "output_type": "execute_result"
    },
    {
     "data": {
      "image/png": "[encoded data removed]",
      "text/plain": [
       "<Figure size 432x288 with 1 Axes>"
      ]
     },
     "metadata": {},
     "output_type": "display_data"
    }
   ],
   "source": [
    "pd.DataFrame(classifier_performance).plot.line(x=\"index\", y=\"loss\")"
   ]
  },
  {
   "cell_type": "markdown",
   "metadata": {
    "slideshow": {
     "slide_type": "notes"
    }
   },
   "source": [
    "- In this case the problem was rather easy so you don't notice a huge trend\n",
    "- Over time those deep dips will start to disappear\n",
    "- That wouldn't happen in random search"
   ]
  },
  {
   "cell_type": "markdown",
   "metadata": {
    "slideshow": {
     "slide_type": "slide"
    }
   },
   "source": [
    "## Sequential Model-Based Optimization (SMBO)\n",
    "\n",
    "```\n",
    "Make a container for your history\n",
    "For each time step in the total number of time steps\n",
    "    Find the most promising set of hyperparameters based off a *surrogate function* and your *model of the data*\n",
    "    Evaluate your most promising set with your true, expensive function\n",
    "    Update your history\n",
    "    Update your model of the data, given the new history\n",
    "```"
   ]
  },
  {
   "cell_type": "markdown",
   "metadata": {
    "slideshow": {
     "slide_type": "notes"
    }
   },
   "source": [
    "- Here comes the math\n",
    "- Begestra did a huge amount of work here\n",
    "- SMBO is a general framework. We have to make up the surrogate function and model"
   ]
  },
  {
   "cell_type": "markdown",
   "metadata": {
    "slideshow": {
     "slide_type": "slide"
    }
   },
   "source": [
    "## How should we model the data?\n",
    "\n",
    "Original paper suggests two options:\n",
    "\n",
    "1. Gaussian Processes (Maybe next talk?)\n",
    "2. **Tree-based Parzen Windows (TPE)**"
   ]
  },
  {
   "cell_type": "markdown",
   "metadata": {
    "slideshow": {
     "slide_type": "notes"
    }
   },
   "source": [
    "- Gaussian processes tend to work well with continuous variables\n",
    "- GPs tend to fail when you have a lot of features that don't matter\n",
    "- Hyperparameter optimization is still a very open field"
   ]
  },
  {
   "cell_type": "markdown",
   "metadata": {
    "slideshow": {
     "slide_type": "slide"
    }
   },
   "source": [
    "## What Is a Surrogate Function?\n",
    "\n",
    "- A surrogate function attempts to put foward the best proposal for the true function\n",
    "- The one chosen in the original paper is called expected improvement, but there are other proposals\n",
    "\n",
    "$$EI_{y^*}(x) = \\int_{-\\infty}^{\\infty} \\max(y^* - y, 0) p(y|x) dy$$\n",
    "\n",
    "- $y^*$ is some threshold value. $p(y|x)$ is the probability of achieving the loss $y$ given the hyperparameters $x$ \n",
    "- In TPE it's a quantile cutoff point of previous values"
   ]
  },
  {
   "cell_type": "markdown",
   "metadata": {
    "slideshow": {
     "slide_type": "slide"
    }
   },
   "source": [
    "## How do Tree-Based Parzen Estimators Work?\n",
    "- Imagine you have two distributions\n",
    "- One distribution contains all of the sets of hyperparameters that give good results\n",
    "- The other contains all the sets of hyperparameters that are not good\n",
    "\n",
    "$$p(x|y) = \\Big\\{^{l(x) if y \\lt y^*}_{g(x) if y \\geq y^*}$$\n",
    "- Notice that we are modeling $p(x|y)$, not $p(y|x)$, but we have Bayes' thereom"
   ]
  },
  {
   "cell_type": "markdown",
   "metadata": {
    "slideshow": {
     "slide_type": "slide"
    }
   },
   "source": [
    "## What decides $y^*$?\n",
    "\n",
    "- You do! It's a hyper-hyperparameter\n",
    "- The TPE algorithm contains a parameter $\\gamma$.\n",
    "- $\\gamma$ = $p(y \\lt y^*)$\n",
    "- This represents the proportion of \"good\" $y$s\n",
    "- By default it's 15%"
   ]
  },
  {
   "cell_type": "markdown",
   "metadata": {
    "slideshow": {
     "slide_type": "slide"
    }
   },
   "source": [
    "## What are $l(x)$ and $g(x)$?\n",
    "\n",
    "- They start as some prior distribution (uniform, log-uniform, normal, log-normal or discrete)\n",
    "- If the prior is continuous then the prior distribution is replaced by truncated 1D Gaussian mixture\n",
    "- If the prior is discrete, then add some weight to the value selected\n",
    "- As far as I can tell, $l$ is for lesser and $g$ is for greater"
   ]
  },
  {
   "cell_type": "markdown",
   "metadata": {
    "slideshow": {
     "slide_type": "slide"
    }
   },
   "source": [
    "## What is the TPE algorithm actually optimizing?\n",
    "\n",
    "- Begestra[1] shows that\n",
    "\n",
    "$$EI_y^*(x) \\propto \\Big(\\gamma + \\frac{g(x)}{l(x)}(1-\\gamma)\\Big)^{-1}$$\n",
    "\n",
    "- The best point $x^*$ will appear be highly probable in $l(x)$ and highly improbable in $g(x)$\n",
    "- So find the optimal point $x^*$ we sample $x$ in both mixtures and report the the value that minimizes $\\frac{g(x)}{l(x)}$\n",
    "- Gaussian mixtures are easy to calculate, so this sampling operation is fast"
   ]
  },
  {
   "cell_type": "markdown",
   "metadata": {
    "slideshow": {
     "slide_type": "slide"
    }
   },
   "source": [
    "## What is a Gaussian Mixture?\n",
    "\n",
    "- Imagine adding two Gaussian curves together and normalizing\n",
    "\n",
    "### In TPE:\n",
    "- The mean of each Gaussian is defined as the point sampled from the previous distribution\n",
    "- The standard deviation is the difference between the new sampled point and it's immediate neighbours. Pick the greater of the two distances."
   ]
  },
  {
   "cell_type": "code",
   "execution_count": 112,
   "metadata": {
    "slideshow": {
     "slide_type": "slide"
    }
   },
   "outputs": [
    {
     "data": {
      "text/plain": [
       "<matplotlib.axes._subplots.AxesSubplot at 0x7f420637f320>"
      ]
     },
     "execution_count": 112,
     "metadata": {},
     "output_type": "execute_result"
    },
    {
     "data": {
      "image/png": "[encoded data removed]",
      "text/plain": [
       "<matplotlib.figure.Figure at 0x7f420644b080>"
      ]
     },
     "metadata": {},
     "output_type": "display_data"
    }
   ],
   "source": [
    "gaussian_example_1 = normal(loc=0, scale=0.1, size=10000)\n",
    "gaussian_example_2 = normal(loc=1, scale=0.5, size=10000)\n",
    "mixture_example = choice(np.concatenate([gaussian_example_1, gaussian_example_2]), size = len(gaussian_example_1))\n",
    "\n",
    "sns.distplot(gaussian_example_1, kde=True, hist=False, label=\"1st Gaussian\")\n",
    "sns.distplot(gaussian_example_2, kde=True, hist=False, label=\"2nd Gaussian\")\n",
    "sns.distplot(mixture_example, kde=True, hist=False, label=\"Gaussian Mixture\")"
   ]
  },
  {
   "cell_type": "markdown",
   "metadata": {
    "slideshow": {
     "slide_type": "notes"
    }
   },
   "source": [
    "- TPE constructs these mixtures iteratively"
   ]
  },
  {
   "cell_type": "markdown",
   "metadata": {
    "slideshow": {
     "slide_type": "slide"
    }
   },
   "source": [
    "## What is Hyperopt?\n",
    "\n",
    "- People assume that hyperopt is the reference implementation of TPE in Python[4]\n",
    "- That's true, but it's also a general purpose optimization framework\n",
    "\n",
    "We need:\n",
    " - A function to minimize\n",
    " - A defined hyperparameter space\n",
    " - A object to store our experiments in\n",
    " - A search algorithm (TPE)"
   ]
  },
  {
   "cell_type": "code",
   "execution_count": 10,
   "metadata": {
    "slideshow": {
     "slide_type": "slide"
    }
   },
   "outputs": [],
   "source": [
    "def example_experiment(space_arguments):    \n",
    "    # Recall MNIST from near the start of the talk?\n",
    "    accuracy_results = cross_val_score(space_arguments, \n",
    "                                       train_X, train_y, scoring=make_scorer(accuracy_score))\n",
    "    \n",
    "    try:\n",
    "        return {\"loss\": -accuracy_results.mean(), # Negative because hyperopt always minimizes\n",
    "         \"status\": hp.STATUS_OK}\n",
    "    except Exception as e:\n",
    "        return {\"status\": hp.STATUS_FAIL,\n",
    "                \"exception\": str(e)} "
   ]
  },
  {
   "cell_type": "code",
   "execution_count": 11,
   "metadata": {
    "slideshow": {
     "slide_type": "slide"
    }
   },
   "outputs": [],
   "source": [
    "hp.pyll.scope.define(RandomForestClassifier)\n",
    "hp.pyll.scope.define(KNeighborsClassifier)\n",
    "\n",
    "\n",
    "space = hp.hp.pchoice(\"model\", [\n",
    "    (0.4, hp.pyll.scope.RandomForestClassifier( # Weighted discrete\n",
    "        criterion=hp.hp.choice(\"random_forest.criterion\", [\"gini\", \"entropy\"]),\n",
    "        n_estimators=hp.pyll.scope.int(\n",
    "            hp.hp.qloguniform(\"random_forest.n_estimators\", np.log(9.5), np.log(3000.5), 1)))),\n",
    "    (0.6, hp.pyll.scope.KNeighborsClassifier(\n",
    "        n_neighbors=hp.pyll.scope.int(hp.hp.qloguniform(\"knn.n_neighbors\", np.log(0.5), np.log(50.5), 1))))\n",
    "])"
   ]
  },
  {
   "cell_type": "markdown",
   "metadata": {
    "slideshow": {
     "slide_type": "notes"
    }
   },
   "source": [
    "- scope.define makes a function accessible to the space\n",
    "- pchoice is weighted discrete\n",
    "- qloguniform just rounds a log-uniform (can't be negative)"
   ]
  },
  {
   "cell_type": "code",
   "execution_count": 14,
   "metadata": {
    "slideshow": {
     "slide_type": "slide"
    }
   },
   "outputs": [
    {
     "data": {
      "text/plain": [
       "{'knn.n_neighbors': 3.0, 'model': 1}"
      ]
     },
     "execution_count": 14,
     "metadata": {},
     "output_type": "execute_result"
    }
   ],
   "source": [
    "trials = hp.Trials() # Basicially, a dictionary\n",
    "best = hp.fmin(example_experiment, \n",
    "               space, \n",
    "               algo=hp.tpe.suggest, max_evals=10, trials=trials)\n",
    "best\n",
    "trials.trials[0]"
   ]
  },
  {
   "cell_type": "markdown",
   "metadata": {
    "slideshow": {
     "slide_type": "slide"
    }
   },
   "source": [
    "## What is Hyperopt-Sklearn? [3]"
   ]
  },
  {
   "cell_type": "markdown",
   "metadata": {
    "slideshow": {
     "slide_type": "slide"
    }
   },
   "source": [
    "![https://www.semanticscholar.org/paper/Hyperopt-Sklearn%3A-Automatic-Hyperparameter-for-Komer-Bergstra/7b2ce6eb25ab840936ae6bf2cd49bc7f20785bc4](./img/tpe_structure.png)"
   ]
  },
  {
   "cell_type": "markdown",
   "metadata": {
    "slideshow": {
     "slide_type": "slide"
    }
   },
   "source": [
    "- A wrapper for Hyperopt compatible with the scikit-learn API\n",
    "- Also includes reasonable prior distributions for many scikit-learn models (plug and play)\n",
    "- Supports XGBoost\n",
    "- Checkout my fork of it is here: https://github.com/lstmemery/hyperopt-sklearn\n",
    "- My main contribution: Fixing cross-validation, adding repeated cross-validation"
   ]
  },
  {
   "cell_type": "markdown",
   "metadata": {
    "slideshow": {
     "slide_type": "notes"
    }
   },
   "source": [
    "This is a way of visualizing hyperopt-sklearn. It selects a preprocessor randomly, then selects the hyperparameters for the preprocessor. This comes image comes from hyperopt-sklearn paper"
   ]
  },
  {
   "cell_type": "markdown",
   "metadata": {
    "slideshow": {
     "slide_type": "slide"
    }
   },
   "source": [
    "## Other Features\n",
    "\n",
    "- Parallel Optimization through MongoDB\n",
    "- Warm Starting (don't start from square one every time)"
   ]
  },
  {
   "cell_type": "markdown",
   "metadata": {
    "slideshow": {
     "slide_type": "notes"
    }
   },
   "source": [
    "- These are both ways of dealing with larger datasets\n",
    "- When in doubt, just buy a bigger instance"
   ]
  },
  {
   "cell_type": "markdown",
   "metadata": {
    "slideshow": {
     "slide_type": "slide"
    }
   },
   "source": [
    "## What about Neural Networks?\n",
    "\n",
    "- Some kind soul built a keras-compatibility layer called [Hyperas](https://github.com/maxpumperla/hyperas)\n",
    "- Hyperas has a similar syntax to Jinja or any other HTML templating library\n",
    "- I haven't found anything for PyTorch"
   ]
  },
  {
   "cell_type": "markdown",
   "metadata": {
    "slideshow": {
     "slide_type": "slide"
    }
   },
   "source": [
    "## Other Hyperparameter Libraries\n",
    "\n",
    "- Hyperband (subsampling, bandit algorithm random search)\n",
    "- TPOT (Evolutionary pipeline building)\n",
    "- Auto-sklearn (Ensemble building and meta-learning)"
   ]
  },
  {
   "cell_type": "raw",
   "metadata": {
    "slideshow": {
     "slide_type": "notes"
    }
   },
   "source": [
    "- There's a new paper suggesting that you combine Hyperband and Hyperopt"
   ]
  },
  {
   "cell_type": "markdown",
   "metadata": {
    "slideshow": {
     "slide_type": "slide"
    }
   },
   "source": [
    "## Bibliography\n",
    "\n",
    "[1]J. Bergstra, R. Bardenet, Y. Bengio, and B. Kégl, “Algorithms for Hyper-parameter Optimization,” in Proceedings of the 24th International Conference on Neural Information Processing Systems, USA, 2011, pp. 2546–2554.\n",
    "\n",
    "[2]D. D. Labs, “District Data Labs - Parameter Tuning with Hyperopt.” [Online]. Available: https://districtdatalabs.silvrback.com/parameter-tuning-with-hyperopt. [Accessed: 15-Jul-2018].\n",
    "\n",
    "[3]B. Komer, J. Bergstra, and C. Eliasmith, “Hyperopt-Sklearn: Automatic Hyperparameter Conﬁguration for Scikit-Learn,” p. 7, 2014.\n",
    "\n",
    "[4]J. Bergstra, B. Komer, C. Eliasmith, D. Yamins, and D. D. Cox, “Hyperopt: a Python library for model selection and hyperparameter optimization,” Comput. Sci. Disc., vol. 8, no. 1, p. 014008, 2015.\n",
    "\n",
    "[5]J. Ellenberg, How Not to Be Wrong: The Power of Mathematical Thinking. Penguin Books, 2014."
   ]
  }
 ],
 "metadata": {
  "celltoolbar": "Slideshow",
  "kernelspec": {
   "display_name": "Python 3",
   "language": "python",
   "name": "python3"
  },
  "language_info": {
   "codemirror_mode": {
    "name": "ipython",
    "version": 3
   },
   "file_extension": ".py",
   "mimetype": "text/x-python",
   "name": "python",
   "nbconvert_exporter": "python",
   "pygments_lexer": "ipython3",
   "version": "3.6.4"
  }
 },
 "nbformat": 4,
 "nbformat_minor": 2
}
